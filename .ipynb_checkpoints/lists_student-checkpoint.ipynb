{
 "cells": [
  {
   "cell_type": "markdown",
   "id": "fdcf45d7",
   "metadata": {},
   "source": [
    "# First operations with lists"
   ]
  },
  {
   "cell_type": "code",
   "execution_count": 1,
   "id": "203d7544",
   "metadata": {},
   "outputs": [],
   "source": [
    "# list creation\n",
    "letters = [\"a\", \"b\", \"c\", \"d\", \"d\"]"
   ]
  },
  {
   "cell_type": "code",
   "execution_count": 2,
   "id": "6656a83c-0a5b-468a-9a8f-daca14185a04",
   "metadata": {},
   "outputs": [
    {
     "data": {
      "text/plain": [
       "list"
      ]
     },
     "execution_count": 2,
     "metadata": {},
     "output_type": "execute_result"
    }
   ],
   "source": [
    "type(letters)"
   ]
  },
  {
   "cell_type": "code",
   "execution_count": 16,
   "id": "3a96f0fa-1f14-4487-98b3-548858bd8f47",
   "metadata": {},
   "outputs": [
    {
     "data": {
      "text/plain": [
       "['a', 'b', 'c', 'd', 'd', 'g', 'h', 4]"
      ]
     },
     "execution_count": 16,
     "metadata": {},
     "output_type": "execute_result"
    }
   ],
   "source": [
    "letters"
   ]
  },
  {
   "cell_type": "code",
   "execution_count": 15,
   "id": "c0f6dcf4",
   "metadata": {},
   "outputs": [],
   "source": [
    "# add some elements to the list\n",
    "letters.extend([4])\n"
   ]
  },
  {
   "cell_type": "code",
   "execution_count": 8,
   "id": "85663f88",
   "metadata": {},
   "outputs": [
    {
     "data": {
      "text/plain": [
       "7"
      ]
     },
     "execution_count": 8,
     "metadata": {},
     "output_type": "execute_result"
    }
   ],
   "source": [
    "# return the length of a list\n",
    "len(letters)"
   ]
  },
  {
   "cell_type": "code",
   "execution_count": null,
   "id": "42bac045",
   "metadata": {},
   "outputs": [],
   "source": [
    "# indexing\n",
    "letters[]"
   ]
  },
  {
   "cell_type": "code",
   "execution_count": 19,
   "id": "ee182278",
   "metadata": {},
   "outputs": [
    {
     "data": {
      "text/plain": [
       "['b', 'c']"
      ]
     },
     "execution_count": 19,
     "metadata": {},
     "output_type": "execute_result"
    }
   ],
   "source": [
    "letters[1:3]"
   ]
  },
  {
   "cell_type": "code",
   "execution_count": null,
   "id": "89ccd0a1",
   "metadata": {},
   "outputs": [],
   "source": []
  },
  {
   "cell_type": "code",
   "execution_count": null,
   "id": "83a0458a",
   "metadata": {},
   "outputs": [],
   "source": [
    "# slicing: \n",
    "\n",
    "\n",
    "# What do you notice?"
   ]
  },
  {
   "cell_type": "code",
   "execution_count": null,
   "id": "fb74c0d5",
   "metadata": {},
   "outputs": [],
   "source": []
  },
  {
   "cell_type": "code",
   "execution_count": null,
   "id": "7bd9bbb8",
   "metadata": {},
   "outputs": [],
   "source": []
  },
  {
   "cell_type": "code",
   "execution_count": null,
   "id": "6ff37be9",
   "metadata": {},
   "outputs": [],
   "source": []
  },
  {
   "cell_type": "code",
   "execution_count": null,
   "id": "b3791509",
   "metadata": {},
   "outputs": [],
   "source": []
  },
  {
   "cell_type": "code",
   "execution_count": 24,
   "id": "661bf61b",
   "metadata": {},
   "outputs": [],
   "source": [
    "# List can store values of different types\n",
    "namecounts= [\"Abdullah\", 123, \"Ayesha\", 456, letters]"
   ]
  },
  {
   "cell_type": "code",
   "execution_count": 29,
   "id": "6b7b6edb",
   "metadata": {},
   "outputs": [
    {
     "name": "stdout",
     "output_type": "stream",
     "text": [
      "['Abdullah', 123, 'Ayesha', 456, ['a', 'b', 'c', 'd', 'd', 'g', 'h', 4], 'Basel']\n"
     ]
    }
   ],
   "source": [
    "# we can add elements\n",
    "namecounts.append(\"Basel\")\n",
    "print(namecounts)"
   ]
  },
  {
   "cell_type": "code",
   "execution_count": 30,
   "id": "db182150",
   "metadata": {},
   "outputs": [
    {
     "name": "stdout",
     "output_type": "stream",
     "text": [
      "['Abdullah', 123, 'Ayesha', 456, ['a', 'b', 'c', 'd', 'd', 'g', 'h', 4]]\n"
     ]
    }
   ],
   "source": [
    "# and we can remove elements\n",
    "namecounts.remove(\"Basel\")\n",
    "print(namecounts)"
   ]
  },
  {
   "cell_type": "code",
   "execution_count": 31,
   "id": "526eb5fb",
   "metadata": {},
   "outputs": [
    {
     "name": "stdout",
     "output_type": "stream",
     "text": [
      "['Abdullah', 123, 'Ayesha', 456]\n"
     ]
    }
   ],
   "source": [
    "# we can also remove the last element\n",
    "namecounts.pop()\n",
    "print(namecounts)"
   ]
  },
  {
   "cell_type": "markdown",
   "id": "ef9bd271",
   "metadata": {},
   "source": [
    "**Note: all three methods pop(), append() and remove() modify the list in-place: this means that the original list is overwritten and replaced by the new one after being modified by the method**"
   ]
  },
  {
   "cell_type": "markdown",
   "id": "9d560bf1",
   "metadata": {},
   "source": [
    "## Manipulating lists"
   ]
  },
  {
   "cell_type": "code",
   "execution_count": 36,
   "id": "0595b70c",
   "metadata": {},
   "outputs": [
    {
     "data": {
      "text/plain": [
       "1"
      ]
     },
     "execution_count": 36,
     "metadata": {},
     "output_type": "execute_result"
    }
   ],
   "source": [
    "# searches for and counts the number of an element in a list\n",
    "namecounts.count()"
   ]
  },
  {
   "cell_type": "code",
   "execution_count": 33,
   "id": "9e213265",
   "metadata": {},
   "outputs": [
    {
     "name": "stdout",
     "output_type": "stream",
     "text": [
      "['Abdullah', 123, 'Ayesha', 456]\n"
     ]
    }
   ],
   "source": [
    "print(namecounts)"
   ]
  },
  {
   "cell_type": "code",
   "execution_count": 37,
   "id": "16ae3d3d-c115-4d52-96f8-97458583b30a",
   "metadata": {},
   "outputs": [],
   "source": [
    "del namecounts[1:3]"
   ]
  },
  {
   "cell_type": "code",
   "execution_count": 38,
   "id": "8d6da6cd-27bd-45fa-9cec-612d62a665ef",
   "metadata": {},
   "outputs": [
    {
     "data": {
      "text/plain": [
       "['Abdullah', 456]"
      ]
     },
     "execution_count": 38,
     "metadata": {},
     "output_type": "execute_result"
    }
   ],
   "source": [
    "namecounts"
   ]
  },
  {
   "cell_type": "code",
   "execution_count": 40,
   "id": "9d3b05db-e5cb-4497-b0af-5a492d8499f0",
   "metadata": {},
   "outputs": [],
   "source": [
    "p=[(1,2),\"b\",5.0,\"9\"]"
   ]
  },
  {
   "cell_type": "markdown",
   "id": "2e077d09-37c4-4eda-ae58-3658679cef04",
   "metadata": {},
   "source": [
    "(1,2) is a tuple\n",
    "\n",
    "In a list\n",
    "1. the syntax is a= [ ] , where a is a variable and notebook\n",
    "2. u can call an empty list\n",
    "3. u can index\n",
    "4. you can order\n",
    "5. u can mutable\n",
    "6. different data types\n",
    "7. \n",
    "the only difference between tuple and list is that tuple is not mutable"
   ]
  },
  {
   "cell_type": "code",
   "execution_count": null,
   "id": "373be986-4879-41c7-9ae7-d0cbe1caab4c",
   "metadata": {},
   "outputs": [],
   "source": []
  }
 ],
 "metadata": {
  "kernelspec": {
   "display_name": "Python 3 (ipykernel)",
   "language": "python",
   "name": "python3"
  },
  "language_info": {
   "codemirror_mode": {
    "name": "ipython",
    "version": 3
   },
   "file_extension": ".py",
   "mimetype": "text/x-python",
   "name": "python",
   "nbconvert_exporter": "python",
   "pygments_lexer": "ipython3",
   "version": "3.12.2"
  }
 },
 "nbformat": 4,
 "nbformat_minor": 5
}
