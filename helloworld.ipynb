{
 "cells": [
  {
   "cell_type": "markdown",
   "id": "a9e651f5-c91e-489b-b13b-b55798366d55",
   "metadata": {},
   "source": [
    "# INTRODUCTION"
   ]
  },
  {
   "cell_type": "markdown",
   "id": "8532966a-97f4-4740-bf5f-be500a2ccafc",
   "metadata": {},
   "source": [
    "## print function"
   ]
  },
  {
   "cell_type": "markdown",
   "id": "566d622d-6150-4c33-934a-5f6a94c9aca9",
   "metadata": {},
   "source": [
    "## some examples\n",
    "here we are defining some variables and checking print function"
   ]
  },
  {
   "cell_type": "code",
   "execution_count": 1,
   "id": "c4eb0198-38c8-4659-ae7f-98b7132ab250",
   "metadata": {},
   "outputs": [
    {
     "name": "stdout",
     "output_type": "stream",
     "text": [
      "hello world!1\n"
     ]
    }
   ],
   "source": [
    "print(\"hello world!1\")"
   ]
  },
  {
   "cell_type": "code",
   "execution_count": 2,
   "id": "e9fb7457-fbb9-4392-a4fe-c15cb0b63c3e",
   "metadata": {},
   "outputs": [],
   "source": [
    "x=(\"hello world second\")"
   ]
  },
  {
   "cell_type": "code",
   "execution_count": 3,
   "id": "e5eb0e3c-051d-486f-ba22-e84dc21814d6",
   "metadata": {},
   "outputs": [
    {
     "name": "stdout",
     "output_type": "stream",
     "text": [
      "hello world second\n"
     ]
    }
   ],
   "source": [
    "print (x)"
   ]
  },
  {
   "cell_type": "code",
   "execution_count": 4,
   "id": "b06ec6ce-6198-4608-958e-6e5ec40649eb",
   "metadata": {},
   "outputs": [
    {
     "data": {
      "text/plain": [
       "str"
      ]
     },
     "execution_count": 4,
     "metadata": {},
     "output_type": "execute_result"
    }
   ],
   "source": [
    "type(x)"
   ]
  },
  {
   "cell_type": "code",
   "execution_count": 5,
   "id": "a7e01bf9-65bc-4cf6-ae24-e33c5839be5d",
   "metadata": {},
   "outputs": [],
   "source": [
    "m='hello'"
   ]
  },
  {
   "cell_type": "code",
   "execution_count": 6,
   "id": "2d70d28e-7c96-49bd-be62-aede23b8e1cd",
   "metadata": {},
   "outputs": [
    {
     "name": "stdout",
     "output_type": "stream",
     "text": [
      "hello\n"
     ]
    }
   ],
   "source": [
    "print(m)"
   ]
  },
  {
   "cell_type": "code",
   "execution_count": 7,
   "id": "ac766fda-3ce9-4f38-89a0-7d81616db2cc",
   "metadata": {},
   "outputs": [
    {
     "name": "stdout",
     "output_type": "stream",
     "text": [
      "15\n"
     ]
    }
   ],
   "source": [
    "s=15\n",
    "print(s)"
   ]
  },
  {
   "cell_type": "code",
   "execution_count": 8,
   "id": "ce707484-7568-447a-b3de-c13b293c3e2a",
   "metadata": {},
   "outputs": [
    {
     "data": {
      "text/plain": [
       "15"
      ]
     },
     "execution_count": 8,
     "metadata": {},
     "output_type": "execute_result"
    }
   ],
   "source": [
    "s"
   ]
  },
  {
   "cell_type": "code",
   "execution_count": 9,
   "id": "e45da5b5-8b97-406b-a114-c3521d7e451e",
   "metadata": {},
   "outputs": [
    {
     "data": {
      "text/plain": [
       "'hello world second'"
      ]
     },
     "execution_count": 9,
     "metadata": {},
     "output_type": "execute_result"
    }
   ],
   "source": [
    "x"
   ]
  },
  {
   "cell_type": "code",
   "execution_count": 12,
   "id": "862f1e72-e261-4828-9b52-b4eef6e0b395",
   "metadata": {},
   "outputs": [
    {
     "data": {
      "text/plain": [
       "str"
      ]
     },
     "execution_count": 12,
     "metadata": {},
     "output_type": "execute_result"
    }
   ],
   "source": [
    "type(x) # this default function is giving the data type"
   ]
  },
  {
   "cell_type": "code",
   "execution_count": 11,
   "id": "1796cada-ce86-4fb1-9762-4e4b457cfb74",
   "metadata": {},
   "outputs": [],
   "source": [
    "r=5.0"
   ]
  },
  {
   "cell_type": "code",
   "execution_count": 14,
   "id": "01698876-f4dd-4374-9bcf-d88576ab9e1e",
   "metadata": {},
   "outputs": [
    {
     "data": {
      "text/plain": [
       "8"
      ]
     },
     "execution_count": 14,
     "metadata": {},
     "output_type": "execute_result"
    }
   ],
   "source": [
    "n=3\n",
    "m=5\n",
    "n+m"
   ]
  },
  {
   "cell_type": "code",
   "execution_count": null,
   "id": "60af715b-9658-4ed5-a6df-f6dd8c860fab",
   "metadata": {},
   "outputs": [],
   "source": []
  }
 ],
 "metadata": {
  "kernelspec": {
   "display_name": "Python 3 (ipykernel)",
   "language": "python",
   "name": "python3"
  },
  "language_info": {
   "codemirror_mode": {
    "name": "ipython",
    "version": 3
   },
   "file_extension": ".py",
   "mimetype": "text/x-python",
   "name": "python",
   "nbconvert_exporter": "python",
   "pygments_lexer": "ipython3",
   "version": "3.12.2"
  }
 },
 "nbformat": 4,
 "nbformat_minor": 5
}
