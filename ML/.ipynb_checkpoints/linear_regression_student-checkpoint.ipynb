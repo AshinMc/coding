{
 "cells": [
  {
   "cell_type": "code",
   "execution_count": null,
   "id": "670d8f1b-134f-4ed8-a088-b37c50b18174",
   "metadata": {},
   "outputs": [],
   "source": []
  },
  {
   "cell_type": "markdown",
   "id": "475f9135-bebe-434f-877f-a98e3ad146ad",
   "metadata": {},
   "source": [
    "## Import the necessary libraries"
   ]
  },
  {
   "cell_type": "code",
   "execution_count": null,
   "id": "44348d6f",
   "metadata": {},
   "outputs": [],
   "source": [
    "import ... as pd\n",
    "# Plotting\n",
    "import ... as sns\n",
    "import matplotlib.pyplot as plt\n",
    "\n",
    "# sklearn environment\n",
    "from sklearn.linear_model import LinearRegression\n",
    "from sklearn.model_selection import train_test_split"
   ]
  },
  {
   "cell_type": "markdown",
   "id": "4b0acaf7",
   "metadata": {},
   "source": [
    "--------------------------------"
   ]
  },
  {
   "cell_type": "markdown",
   "id": "6f78f51d",
   "metadata": {},
   "source": [
    "# Linear regression\n",
    "\n"
   ]
  },
  {
   "cell_type": "markdown",
   "id": "9f7d5897",
   "metadata": {},
   "source": [
    "### 1. What is Linear Regression?"
   ]
  },
  {
   "cell_type": "markdown",
   "id": "b9c91c73",
   "metadata": {},
   "source": [
    "- models a linear relationship between at least one explanatory variable $x$ (feature) and an outcome variable $y$ (target):\n",
    "$\\newline$\n",
    "$$\n",
    "y = w_0 + w_1x + \\epsilon\n",
    "$$\n",
    "$\\newline$\n",
    "where\n",
    ">- $w_0$ is the intercept or bias \n",
    ">- $w_1$ is the coefficient or slope  (how much y changes for each unit of x)\n",
    ">- $\\epsilon$ is randomly distributed error term"
   ]
  },
  {
   "cell_type": "markdown",
   "id": "e67458a0",
   "metadata": {},
   "source": [
    "### Why is this useful?\n",
    "* Predicting metric variables is common place in data science\n",
    "* The results are easily interpretable\n"
   ]
  },
  {
   "cell_type": "markdown",
   "id": "debca5a6",
   "metadata": {},
   "source": [
    "--------------------------------------"
   ]
  },
  {
   "cell_type": "markdown",
   "id": "ab1fb6de",
   "metadata": {},
   "source": [
    "##  Linear regression with scikit learn and the Penguins."
   ]
  },
  {
   "cell_type": "markdown",
   "id": "aa7c5068",
   "metadata": {},
   "source": [
    "## Define Business Goal\n",
    "Train a linear regresssion model to predict `Body mass` from `Flipper Length`\n"
   ]
  },
  {
   "cell_type": "markdown",
   "id": "1e026b62",
   "metadata": {},
   "source": [
    "## Read the Data as a Dataframe"
   ]
  },
  {
   "cell_type": "code",
   "execution_count": null,
   "id": "657ac9a3",
   "metadata": {},
   "outputs": [],
   "source": [
    "penguins = pd.....(\"./data/penguins_simple.csv\", sep=\";\")\n"
   ]
  },
  {
   "cell_type": "markdown",
   "id": "8b520314-8646-4fdd-8bec-179a0a5b04cf",
   "metadata": {},
   "source": [
    "## Check the info of the data"
   ]
  },
  {
   "cell_type": "code",
   "execution_count": null,
   "id": "3dd0b235-c236-4f08-bae4-96d9c3ea46f2",
   "metadata": {},
   "outputs": [],
   "source": []
  },
  {
   "cell_type": "markdown",
   "id": "1a4f52f9-7ff0-459b-9924-9951e6902ceb",
   "metadata": {},
   "source": [
    "## Do you have any null values? Any duplicates?"
   ]
  },
  {
   "cell_type": "code",
   "execution_count": null,
   "id": "30be1ad0-fcde-4081-8865-eb0ed8cd2bb4",
   "metadata": {},
   "outputs": [],
   "source": []
  },
  {
   "cell_type": "code",
   "execution_count": null,
   "id": "7b3eed1e-c94f-4c28-9558-ae03bafab863",
   "metadata": {},
   "outputs": [],
   "source": []
  },
  {
   "cell_type": "markdown",
   "id": "0d615da2",
   "metadata": {},
   "source": [
    "## Train/Test split"
   ]
  },
  {
   "cell_type": "code",
   "execution_count": null,
   "id": "673c6b4a",
   "metadata": {},
   "outputs": [],
   "source": []
  },
  {
   "cell_type": "markdown",
   "id": "e8dd7db3",
   "metadata": {},
   "source": [
    "### Define X and y"
   ]
  },
  {
   "cell_type": "code",
   "execution_count": null,
   "id": "83503dd5",
   "metadata": {},
   "outputs": [],
   "source": [
    "X = penguins[[\"Flipper Length (mm)\"]] # independent variable\n",
    "X"
   ]
  },
  {
   "cell_type": "code",
   "execution_count": null,
   "id": "32880db7",
   "metadata": {},
   "outputs": [],
   "source": [
    "y = penguins[\"Body Mass (g)\"] #dependent variable, target\n",
    "y"
   ]
  },
  {
   "cell_type": "code",
   "execution_count": null,
   "id": "28e7a634",
   "metadata": {},
   "outputs": [],
   "source": [
    "Xtrain, Xtest, ytrain, ytest = train_test_split(X,y, test_size=0.2, random_state=42) #splittin the data into train and test dataset"
   ]
  },
  {
   "cell_type": "markdown",
   "id": "26bdcd27",
   "metadata": {},
   "source": [
    "## Exploratory Data Analysis\n",
    "We need to recombine the Xtrain and ytrain to make "
   ]
  },
  {
   "cell_type": "code",
   "execution_count": null,
   "id": "f646599b-f536-40a5-8d92-977075e2ee2e",
   "metadata": {},
   "outputs": [],
   "source": [
    "#let's check the flipper length vs body mass\n",
    "plt.scatter(Xtrain[\"Flipper Length (mm)\"], ytrain);"
   ]
  },
  {
   "cell_type": "markdown",
   "id": "29dc720d",
   "metadata": {},
   "source": [
    "## Feature Engineering\n",
    "\n",
    "\n",
    "+ No missing values allowed --> impute\n",
    "+ For categorical variables: one-hot-encoding\n",
    "+ For numerical variables: better if scaled"
   ]
  },
  {
   "cell_type": "markdown",
   "id": "1a816575",
   "metadata": {},
   "source": [
    "## Train Model(s)\n"
   ]
  },
  {
   "cell_type": "code",
   "execution_count": null,
   "id": "21c9b294",
   "metadata": {},
   "outputs": [],
   "source": [
    "#define your model as Linear regression\n",
    "..."
   ]
  },
  {
   "cell_type": "code",
   "execution_count": null,
   "id": "cc7f7540",
   "metadata": {},
   "outputs": [],
   "source": [
    "# Train the model and fitting is the same \n",
    "\n",
    "model.fit(Xtrain,ytrain)   #Our model learns model parameters, slope and intercept"
   ]
  },
  {
   "cell_type": "code",
   "execution_count": null,
   "id": "6347af1e",
   "metadata": {},
   "outputs": [],
   "source": []
  },
  {
   "cell_type": "markdown",
   "id": "dd43437f",
   "metadata": {},
   "source": [
    "## Evaluate the model(s)\n",
    "The `.score()` method for the linear regression model corresponds to R-squared."
   ]
  },
  {
   "cell_type": "markdown",
   "id": "7962430b",
   "metadata": {},
   "source": [
    "\n",
    "#### **R-squared** \n",
    "R-Squared (R² or the coefficient of determination) is a statistical measure in a regression model that determines the proportion of variance in the dependent variable that can be explained by the independent variable. In other words, r-squared shows how well the data fit the regression model (the goodness of fit).\n",
    "So, a r-squared value of 1.0 means your model has a perfect fit – no errors in your predictions!\n",
    "On the other hand, a r-squared value of 0.0 means your model is no better than a simple average over all points.\n",
    "\n",
    "$$ R^2 = 1 - \\frac{\\sum_i(\\hat{y}^{(i)} - y^{(i)}_{true})^2}{\\sum_{i}(y^{(i)}_{true} - \\bar{y})^2}$$\n",
    "\n",
    "\n",
    "\n"
   ]
  },
  {
   "cell_type": "code",
   "execution_count": null,
   "id": "85de9819",
   "metadata": {},
   "outputs": [],
   "source": [
    "model.score(Xtrain, ytrain), model.score(Xtest,ytest)  # 1 is the perfect fit, the line goes through all the data points"
   ]
  },
  {
   "cell_type": "code",
   "execution_count": null,
   "id": "b6057583",
   "metadata": {},
   "outputs": [],
   "source": [
    "ypred =model.predict(Xtest)  # Predicted Body of the penguins\n",
    "\n",
    "actual_vs_predicted = pd.DataFrame({'Actual': ytest, 'Predicted':ypred })\n",
    "actual_vs_predicted.head()"
   ]
  },
  {
   "cell_type": "code",
   "execution_count": null,
   "id": "8de513e2",
   "metadata": {},
   "outputs": [],
   "source": [
    "ytest #True values from the dataset, Body Mass of the penguins"
   ]
  },
  {
   "cell_type": "code",
   "execution_count": null,
   "id": "7c3b2186",
   "metadata": {},
   "outputs": [],
   "source": [
    "#run the code below and check the visual!\n",
    "\n",
    "plt.plot(Xtrain[\"Flipper Length (mm)\"], ytrain, 'bs', label=\"train\")\n",
    "plt.plot(Xtest[\"Flipper Length (mm)\"], ytest, 'ro', label=\"test\")\n",
    "plt.plot(Xtest[\"Flipper Length (mm)\"], ypred, 'c', label=\"fit\")\n",
    "plt.legend()\n"
   ]
  },
  {
   "cell_type": "code",
   "execution_count": null,
   "id": "559989ad",
   "metadata": {},
   "outputs": [],
   "source": []
  }
 ],
 "metadata": {
  "kernelspec": {
   "display_name": "Python 3 (ipykernel)",
   "language": "python",
   "name": "python3"
  },
  "language_info": {
   "codemirror_mode": {
    "name": "ipython",
    "version": 3
   },
   "file_extension": ".py",
   "mimetype": "text/x-python",
   "name": "python",
   "nbconvert_exporter": "python",
   "pygments_lexer": "ipython3",
   "version": "3.11.5"
  }
 },
 "nbformat": 4,
 "nbformat_minor": 5
}
