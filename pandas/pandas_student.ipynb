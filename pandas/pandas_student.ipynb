{
 "cells": [
  {
   "cell_type": "markdown",
   "id": "ab518d9c-0cb0-428b-b7c0-1ca545702ee2",
   "metadata": {},
   "source": [
    "# Introduction to Pandas"
   ]
  },
  {
   "cell_type": "markdown",
   "id": "a9acad71-dbb6-44c3-a41c-f1c056a13e53",
   "metadata": {},
   "source": [
    "## Installation\n",
    "\n",
    "Install Pandas through a Terminal:\n",
    "\n",
    "```python\n",
    "pip install pandas\n",
    "```"
   ]
  },
  {
   "cell_type": "code",
   "execution_count": null,
   "id": "913fe16f-a072-4f1f-afd8-53ef69450a9c",
   "metadata": {},
   "outputs": [],
   "source": []
  },
  {
   "cell_type": "markdown",
   "id": "ce141f8e-b03d-491a-bc82-099309cf5eb8",
   "metadata": {},
   "source": [
    "### 1- import the libraries"
   ]
  },
  {
   "cell_type": "code",
   "execution_count": 1,
   "id": "20206d71-dd14-4985-a214-789a77676aa6",
   "metadata": {},
   "outputs": [],
   "source": [
    "import pandas as pd"
   ]
  },
  {
   "cell_type": "markdown",
   "id": "6cc6e328-cf8d-4950-a0f6-e1b6cf676719",
   "metadata": {},
   "source": [
    "## Dataframes"
   ]
  },
  {
   "cell_type": "markdown",
   "id": "903bf1c0-81ed-4ff8-bd83-af005f17921e",
   "metadata": {},
   "source": [
    "dataframes are the fundamental data structure in pandas. A dataframe consists of row(s) and column(s), each column is a series."
   ]
  },
  {
   "cell_type": "markdown",
   "id": "728bfd12-fc12-424e-a4b9-1435c692880e",
   "metadata": {},
   "source": [
    "### 2- Creating a dataframe "
   ]
  },
  {
   "cell_type": "code",
   "execution_count": null,
   "id": "13c5bbd9-1b78-4982-aa48-91df15c5d52b",
   "metadata": {},
   "outputs": [],
   "source": [
    "# create a list of lists\n",
    "data = [['SRH', 2002], ['ESMT', 2002], ['Viadrina', 1506], ['TU-Berlin', 1879]]"
   ]
  },
  {
   "cell_type": "code",
   "execution_count": null,
   "id": "9642f328-ba37-4b5c-bee9-875d1c6bf410",
   "metadata": {},
   "outputs": [],
   "source": [
    "pd.DataFrame(data)"
   ]
  },
  {
   "cell_type": "markdown",
   "id": "7ab246b4-3000-4aad-a42e-45243ac501c1",
   "metadata": {},
   "source": [
    "The column names are not really representing the data. Let's change them and give the dataframe a name!"
   ]
  },
  {
   "cell_type": "code",
   "execution_count": null,
   "id": "b1713c4f-caf6-41e2-8334-271393647184",
   "metadata": {},
   "outputs": [],
   "source": [
    "df= pd.DataFrame(data, columns=[\"...\", \"...\"])"
   ]
  },
  {
   "cell_type": "code",
   "execution_count": null,
   "id": "ee0d44f7-cd79-43a7-bb82-73ae6f0c88b8",
   "metadata": {},
   "outputs": [],
   "source": []
  },
  {
   "cell_type": "markdown",
   "id": "13b3527c-5b5b-4c7b-a605-aa5d9c404492",
   "metadata": {},
   "source": [
    "### 3- Investigating"
   ]
  },
  {
   "cell_type": "code",
   "execution_count": null,
   "id": "dddb0ce8-42da-4dad-b3df-af5d6db93686",
   "metadata": {},
   "outputs": [],
   "source": [
    "#let's check the type if df"
   ]
  },
  {
   "cell_type": "code",
   "execution_count": null,
   "id": "ecaf17c8-74e3-4ecb-a8b9-5c2b12b5c60b",
   "metadata": {},
   "outputs": [],
   "source": []
  },
  {
   "cell_type": "code",
   "execution_count": null,
   "id": "d82f6451-248c-45ee-928a-20c071b2b3f2",
   "metadata": {},
   "outputs": [],
   "source": [
    "# show the row index\n",
    "\n",
    "df.index"
   ]
  },
  {
   "cell_type": "code",
   "execution_count": null,
   "id": "701c29ab-c5cb-4321-8e1a-810ab512d2f8",
   "metadata": {},
   "outputs": [],
   "source": []
  },
  {
   "cell_type": "code",
   "execution_count": null,
   "id": "e6637366-84f3-4704-95aa-28dad9e77971",
   "metadata": {},
   "outputs": [],
   "source": [
    "# what is the type of the index ?\n",
    "\n",
    "type(df.index)"
   ]
  },
  {
   "cell_type": "code",
   "execution_count": null,
   "id": "b78ed1b6-aeb9-4746-84d1-afab72c1f7f1",
   "metadata": {},
   "outputs": [],
   "source": []
  },
  {
   "cell_type": "code",
   "execution_count": null,
   "id": "32d15d9b-152c-457b-a265-81a1806d2e13",
   "metadata": {},
   "outputs": [],
   "source": [
    "# what is the type of a column in a dataframe ?\n",
    "\n",
    "type(df['university'])"
   ]
  },
  {
   "cell_type": "code",
   "execution_count": null,
   "id": "a00c6ddd-1f27-46c7-830c-654f1d75be0e",
   "metadata": {},
   "outputs": [],
   "source": []
  },
  {
   "cell_type": "code",
   "execution_count": null,
   "id": "312a6626-f07c-44a9-8e8d-6e15a5b491da",
   "metadata": {},
   "outputs": [],
   "source": [
    "# what are the datatypes of the columns\n",
    "\n",
    "df.dtypes"
   ]
  },
  {
   "cell_type": "code",
   "execution_count": null,
   "id": "d1df9ee1-a392-4f3b-8db3-0c61513e3a98",
   "metadata": {},
   "outputs": [],
   "source": []
  },
  {
   "cell_type": "code",
   "execution_count": null,
   "id": "d440558b-fd60-4591-b0a6-4a14bd688c4d",
   "metadata": {},
   "outputs": [],
   "source": [
    "# inspecting column types with info\n",
    "\n"
   ]
  },
  {
   "cell_type": "code",
   "execution_count": null,
   "id": "e4e2bbf0-a9bb-43c1-ac03-3be21cefffe3",
   "metadata": {},
   "outputs": [],
   "source": []
  },
  {
   "cell_type": "code",
   "execution_count": null,
   "id": "18a345c0-b561-4342-a9e3-ead2d6b590ff",
   "metadata": {},
   "outputs": [],
   "source": [
    "# show column index\n",
    "\n",
    "df.columns"
   ]
  },
  {
   "cell_type": "code",
   "execution_count": null,
   "id": "ef06528d-2d57-4f9a-a011-08e939a394b5",
   "metadata": {},
   "outputs": [],
   "source": []
  },
  {
   "cell_type": "markdown",
   "id": "4289d09c-ba9f-4599-a3ff-b93c8dbdf130",
   "metadata": {},
   "source": [
    "### 4- Reading external files into dataframes"
   ]
  },
  {
   "cell_type": "code",
   "execution_count": null,
   "id": "48af18e8-010d-4e40-9b0c-35ba3cb40e87",
   "metadata": {},
   "outputs": [],
   "source": [
    "# using relative path to the file is a best practice\n",
    "\n",
    "smartphone = pd.read_csv('smartphone.csv')"
   ]
  },
  {
   "cell_type": "code",
   "execution_count": null,
   "id": "b5880a37-7c34-4462-93b2-8c276b22a126",
   "metadata": {},
   "outputs": [],
   "source": []
  },
  {
   "cell_type": "code",
   "execution_count": null,
   "id": "c8a68c44-c9d1-45e6-9933-c2df122951f0",
   "metadata": {},
   "outputs": [],
   "source": []
  },
  {
   "cell_type": "code",
   "execution_count": null,
   "id": "27764dfb-02db-46a3-95c1-bee8311a665a",
   "metadata": {},
   "outputs": [],
   "source": []
  },
  {
   "cell_type": "code",
   "execution_count": null,
   "id": "98109a1b-7dd4-4b8e-bbed-f836c758873a",
   "metadata": {},
   "outputs": [],
   "source": [
    "# using relative path to the file is a best practice!!\n"
   ]
  },
  {
   "cell_type": "code",
   "execution_count": null,
   "id": "7c7b6262-6a02-44b2-af9b-eaae86d1cee0",
   "metadata": {},
   "outputs": [],
   "source": [
    "... = pd.read_csv(\"./data/houses_brooklyn.csv\")\n"
   ]
  },
  {
   "cell_type": "code",
   "execution_count": null,
   "id": "d6941646-a444-4da6-9ff4-2e3ec49e66e2",
   "metadata": {},
   "outputs": [],
   "source": []
  },
  {
   "cell_type": "code",
   "execution_count": null,
   "id": "ed173f15-5dd6-4ccd-8b21-1d8155548314",
   "metadata": {},
   "outputs": [],
   "source": [
    "#let's check the first 5 rows"
   ]
  },
  {
   "cell_type": "code",
   "execution_count": null,
   "id": "7d3a5ff2-7ccf-4ade-b8a9-ba678de9ae80",
   "metadata": {},
   "outputs": [],
   "source": []
  },
  {
   "cell_type": "code",
   "execution_count": null,
   "id": "6fddd677-06a3-4838-baa6-606ab7cfddf5",
   "metadata": {},
   "outputs": [],
   "source": [
    "#let's check the last rows"
   ]
  },
  {
   "cell_type": "code",
   "execution_count": null,
   "id": "f90cde6d-28f4-4f54-9b7b-98a405990d39",
   "metadata": {},
   "outputs": [],
   "source": []
  },
  {
   "cell_type": "code",
   "execution_count": null,
   "id": "4a4c5f5e-f992-4a7e-a487-7dbc79d6f940",
   "metadata": {},
   "outputs": [],
   "source": [
    "#information\n",
    "brooklyn.info()"
   ]
  },
  {
   "cell_type": "code",
   "execution_count": null,
   "id": "c9b453ef-c87f-4f24-b52b-4994c25cbb53",
   "metadata": {},
   "outputs": [],
   "source": []
  },
  {
   "cell_type": "code",
   "execution_count": null,
   "id": "0471adde-efa1-4283-86bd-26332ca0ea7a",
   "metadata": {},
   "outputs": [],
   "source": [
    "brooklyn.columns"
   ]
  },
  {
   "cell_type": "code",
   "execution_count": null,
   "id": "079a151b-e9b0-4b2f-bf60-bffe8ccdb61a",
   "metadata": {},
   "outputs": [],
   "source": [
    "brooklyn.index"
   ]
  },
  {
   "cell_type": "code",
   "execution_count": null,
   "id": "47045238-634f-4206-926a-b7e4891f0801",
   "metadata": {},
   "outputs": [],
   "source": []
  },
  {
   "cell_type": "code",
   "execution_count": null,
   "id": "b8eb29e6-25d2-4e63-b69d-244d06a70f07",
   "metadata": {},
   "outputs": [],
   "source": [
    "brooklyn.dtypes"
   ]
  },
  {
   "cell_type": "markdown",
   "id": "7aa0adc5-532d-4851-af2a-a90cc16241b6",
   "metadata": {},
   "source": [
    "### 5- Investigating deeper with some statistics"
   ]
  },
  {
   "cell_type": "code",
   "execution_count": null,
   "id": "9586363d-1b3b-45a1-b234-1632263faf1a",
   "metadata": {},
   "outputs": [],
   "source": [
    "brooklyn[\"SALE PRICE\"]"
   ]
  },
  {
   "cell_type": "code",
   "execution_count": null,
   "id": "0832b503-ca72-403a-bc9d-64baf0132383",
   "metadata": {},
   "outputs": [],
   "source": [
    "brooklyn[\"SALE PRICE\"]..."
   ]
  },
  {
   "cell_type": "code",
   "execution_count": null,
   "id": "0bc3c572-73bd-42a1-aa80-30ac56f14dd3",
   "metadata": {},
   "outputs": [],
   "source": [
    "brooklyn[\"SALE PRICE\"]...."
   ]
  },
  {
   "cell_type": "code",
   "execution_count": null,
   "id": "b103a83f-e91f-4fe0-be89-553b247e794a",
   "metadata": {},
   "outputs": [],
   "source": []
  },
  {
   "cell_type": "code",
   "execution_count": null,
   "id": "cccf4464-559a-4954-b928-58170593b63d",
   "metadata": {},
   "outputs": [],
   "source": []
  },
  {
   "cell_type": "code",
   "execution_count": null,
   "id": "a5643033-08f6-4a5e-9325-c399817639bf",
   "metadata": {},
   "outputs": [],
   "source": [
    "brooklyn[\"YEAR BUILT\"]"
   ]
  },
  {
   "cell_type": "code",
   "execution_count": null,
   "id": "cc26f30a-f55e-46b7-bd64-72a877ac6dc2",
   "metadata": {},
   "outputs": [],
   "source": [
    "brooklyn[\"YEAR BUILT\"]..."
   ]
  },
  {
   "cell_type": "code",
   "execution_count": null,
   "id": "0fd727c8-2a27-4d5a-bec0-c522ad296f28",
   "metadata": {},
   "outputs": [],
   "source": []
  },
  {
   "cell_type": "markdown",
   "id": "c0a32ab7-c607-4287-8321-ca342720826a",
   "metadata": {},
   "source": [
    "### 6- Check the duplicates and null values"
   ]
  },
  {
   "cell_type": "code",
   "execution_count": null,
   "id": "64add404-0ef5-4c29-8583-039adb993854",
   "metadata": {},
   "outputs": [],
   "source": []
  },
  {
   "cell_type": "code",
   "execution_count": null,
   "id": "e3b860ab-a930-4861-9202-3791806aeadb",
   "metadata": {},
   "outputs": [],
   "source": [
    "brooklyn.duplicated()"
   ]
  },
  {
   "cell_type": "code",
   "execution_count": null,
   "id": "5372a33f-7f26-434c-b9e4-b16539d05152",
   "metadata": {},
   "outputs": [],
   "source": [
    "brooklyn[brooklyn.duplicated()== True]"
   ]
  },
  {
   "cell_type": "code",
   "execution_count": null,
   "id": "ced213c1-ce5d-4cd6-ab39-2bb71cd25240",
   "metadata": {},
   "outputs": [],
   "source": [
    "brooklyn=brooklyn.drop_duplicates()"
   ]
  },
  {
   "cell_type": "code",
   "execution_count": null,
   "id": "500d44cf-8ee8-4d4e-9184-c925c6718e2b",
   "metadata": {},
   "outputs": [],
   "source": [
    "#now we can see it is empty\n",
    "\n",
    "brooklyn[brooklyn.duplicated()== True]"
   ]
  },
  {
   "cell_type": "code",
   "execution_count": null,
   "id": "c453d1cb-e34b-4c4d-a986-063ad56440cd",
   "metadata": {},
   "outputs": [],
   "source": [
    "brooklyn.info()"
   ]
  },
  {
   "cell_type": "code",
   "execution_count": null,
   "id": "4de022ac-84b0-47f1-9fe1-1daf93f11061",
   "metadata": {},
   "outputs": [],
   "source": [
    "brooklyn.isnull()"
   ]
  },
  {
   "cell_type": "code",
   "execution_count": null,
   "id": "7306086e-efac-43d8-a29a-d278f08f4ca5",
   "metadata": {},
   "outputs": [],
   "source": [
    "brooklyn.isnull().sum()"
   ]
  },
  {
   "cell_type": "code",
   "execution_count": null,
   "id": "bad0713e-7c5a-4f11-b34f-86099f631f43",
   "metadata": {},
   "outputs": [],
   "source": [
    "#let's work with column names"
   ]
  },
  {
   "cell_type": "code",
   "execution_count": null,
   "id": "baf5f21d-ef1a-4490-a780-1e9c13f1c026",
   "metadata": {},
   "outputs": [],
   "source": [
    "brooklyn.columns = brooklyn.columns.str.lower()"
   ]
  },
  {
   "cell_type": "code",
   "execution_count": null,
   "id": "c7f82e92-de72-4158-b4e5-e4f5c2ebd53d",
   "metadata": {},
   "outputs": [],
   "source": [
    "brooklyn.head()"
   ]
  },
  {
   "cell_type": "code",
   "execution_count": null,
   "id": "6bfef9df-e0b5-451a-b15c-4ea8d615af0c",
   "metadata": {},
   "outputs": [],
   "source": [
    "brooklyn.columns"
   ]
  },
  {
   "cell_type": "code",
   "execution_count": null,
   "id": "ddd2c2fb-9ac4-4d40-b415-2836205b5a6c",
   "metadata": {},
   "outputs": [],
   "source": [
    "brooklyn.columns = ['neighborhood', 'building_category', 'tax_class_present',\n",
    "       'lot', 'building_class_present', 'zip_code', 'residential_units',\n",
    "       'commercial_units', 'total_units', 'land_sq_feet',\n",
    "       'gross_sq_feet', 'year_built', 'tax_class_at_sale',\n",
    "       'building_class_at_sale', 'price']\n",
    "\n",
    "brooklyn"
   ]
  },
  {
   "cell_type": "markdown",
   "id": "396865fb-91f1-4170-98bf-a1b117407c32",
   "metadata": {},
   "source": [
    "### 7-Let's save the data"
   ]
  },
  {
   "cell_type": "code",
   "execution_count": null,
   "id": "96c06921-3570-4095-a1db-a4ec64385e78",
   "metadata": {},
   "outputs": [],
   "source": [
    "brooklyn.to_csv('brooklyn_clean.csv')"
   ]
  },
  {
   "cell_type": "code",
   "execution_count": null,
   "id": "044b6fa0-6722-41dc-a139-352e483c882d",
   "metadata": {},
   "outputs": [],
   "source": []
  }
 ],
 "metadata": {
  "kernelspec": {
   "display_name": "Python 3 (ipykernel)",
   "language": "python",
   "name": "python3"
  },
  "language_info": {
   "codemirror_mode": {
    "name": "ipython",
    "version": 3
   },
   "file_extension": ".py",
   "mimetype": "text/x-python",
   "name": "python",
   "nbconvert_exporter": "python",
   "pygments_lexer": "ipython3",
   "version": "3.12.2"
  }
 },
 "nbformat": 4,
 "nbformat_minor": 5
}
